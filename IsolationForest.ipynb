{
 "cells": [
  {
   "cell_type": "code",
   "execution_count": null,
   "metadata": {},
   "outputs": [],
   "source": [
    "import numpy as np\n",
    "import matplotlib.pyplot as plt\n",
    "from sklearn.ensemble import IsolationForest"
   ]
  },
  {
   "cell_type": "code",
   "execution_count": null,
   "metadata": {},
   "outputs": [],
   "source": [
    "# 获得随机数生成器\n",
    "rng = np.random.RandomState(42)\n",
    "\n",
    "plt.figure()\n",
    "# 以给定的形状创建一个数组，数组元素来符合标准正态分布N(0,1)\n",
    "X = 0.3 * rng.randn(100, 2)\n",
    "# np.r是按列连接两个矩阵，就是把两矩阵上下相加，要求列数相等\n",
    "X_train = np.r_[X + 1, X - 3, X - 5, X + 6]\n",
    "print(\"X_train\",X_train)\n",
    "plt.scatter(X_train[:,0],X_train[:,1],c=\"red\")\n",
    "\n",
    "X = 0.3 * rng.randn(20, 2)\n",
    "X_test = np.r_[X + 1, X - 3, X - 5, X + 6]\n",
    "print(\"X_test\",X_test)\n",
    "plt.scatter(X_test[:,0],X_test[:,1],c=\"blue\")\n",
    "# 随机生成-8——+8之间(20,2)的出界数组\n",
    "X_outliers = rng.uniform(low=-8, high=8, size=(20, 2))\n",
    "plt.scatter(X_outliers[:,0],X_outliers[:,1],c=\"yellow\")\n",
    "plt.show()"
   ]
  },
  {
   "cell_type": "code",
   "execution_count": null,
   "metadata": {},
   "outputs": [],
   "source": [
    "# 导入模型\n",
    "# 生成模型\n",
    "clf = IsolationForest(max_samples=100*2)\n",
    "clf.fit(X_train)\n",
    "# 生成训练数据预测值\n",
    "y_pred_train = clf.predict(X_train)\n",
    "print('y_pred_train',y_pred_train)\n",
    "for item in range(len(y_pred_train)):\n",
    "    if y_pred_train[item] == -1:\n",
    "        plt.scatter(X_train[item,0],X_train[item,1],c=\"red\")\n",
    "    else:\n",
    "        plt.scatter(X_train[item,0],X_train[item,1],c=\"blue\")\n",
    "plt.show()\n",
    "\n",
    "# 生成测试数据预测值\n",
    "y_pred_test = clf.predict(X_test)\n",
    "print('y_pred_test',y_pred_test)\n",
    "for item in range(len(y_pred_test)):\n",
    "    if y_pred_test[item] == -1:\n",
    "        plt.scatter(X_test[item,0],X_test[item,1],c=\"red\")\n",
    "    else:\n",
    "        plt.scatter(X_test[item,0],X_test[item,1],c=\"blue\")\n",
    "plt.show()\n",
    "\n",
    "# 生成出界数据预测值\n",
    "y_pred_outliers = clf.predict(X_outliers)\n",
    "print('y_pred_outliers',y_pred_outliers)\n",
    "for item in range(len(y_pred_outliers)):\n",
    "    if y_pred_outliers[item] == -1:\n",
    "        plt.scatter(X_outliers[item,0],X_outliers[item,1],c=\"red\")\n",
    "    else:\n",
    "        plt.scatter(X_outliers[item,0],X_outliers[item,1],c=\"blue\")\n",
    "plt.show()"
   ]
  },
  {
   "cell_type": "code",
   "execution_count": null,
   "metadata": {},
   "outputs": [],
   "source": []
  }
 ],
 "metadata": {
  "kernelspec": {
   "display_name": "Python 3",
   "language": "python",
   "name": "python3"
  },
  "language_info": {
   "codemirror_mode": {
    "name": "ipython",
    "version": 3
   },
   "file_extension": ".py",
   "mimetype": "text/x-python",
   "name": "python",
   "nbconvert_exporter": "python",
   "pygments_lexer": "ipython3",
   "version": "3.7.0"
  }
 },
 "nbformat": 4,
 "nbformat_minor": 2
}
